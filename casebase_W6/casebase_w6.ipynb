{
 "cells": [
  {
   "cell_type": "markdown",
   "metadata": {},
   "source": [
    "Nama : Ichwan Rizky Wahyudin\\\n",
    "NIM : 1301213434\\\n",
    "Kelas : IF-45-09"
   ]
  },
  {
   "cell_type": "markdown",
   "metadata": {},
   "source": [
    "# Demo Materi"
   ]
  },
  {
   "cell_type": "code",
   "execution_count": 84,
   "metadata": {},
   "outputs": [],
   "source": [
    "# Teori Konvolusi (Spatial Filter)\n",
    "import numpy as np"
   ]
  },
  {
   "cell_type": "code",
   "execution_count": 85,
   "metadata": {},
   "outputs": [],
   "source": [
    "citra = np.array([\n",
    "    [0, 5, 5, 4, 4],\n",
    "    [0, 0, 5, 4, 4],\n",
    "    [1, 6, 1, 3, 3],\n",
    "    [1, 6, 7, 2, 3],\n",
    "    [1, 6, 7, 6, 6]\n",
    "])\n",
    "\n",
    "filter_konvolusi = np.array([\n",
    "    [-2, -1,0],\n",
    "    [-1, 0, 1],\n",
    "    [0, 1, 2]\n",
    "])"
   ]
  },
  {
   "cell_type": "code",
   "execution_count": 86,
   "metadata": {},
   "outputs": [],
   "source": [
    "# Pad the image with zeros\n",
    "citra_padded = np.pad(citra, ((1, 1), (1, 1)), mode='constant')\n",
    "result = np.zeros_like(citra)"
   ]
  },
  {
   "cell_type": "code",
   "execution_count": 87,
   "metadata": {},
   "outputs": [
    {
     "name": "stdout",
     "output_type": "stream",
     "text": [
      "[[  5  15  12  11   0]\n",
      " [ 13   8  -4  -6 -13]\n",
      " [ 19  20   3  -4 -12]\n",
      " [ 18  18   2   9  -5]\n",
      " [  5  -2 -19 -17 -13]]\n"
     ]
    }
   ],
   "source": [
    "def apply_convolution(citra_padded, filter_konvolusi):\n",
    "    result = np.zeros_like(citra_padded)\n",
    "    for i in range(citra_padded.shape[0] - 2): \n",
    "        for j in range(citra_padded.shape[1] - 2): \n",
    "            neighborhood = citra_padded[i:i+3, j:j+3] \n",
    "            convolution_result = np.sum(neighborhood * filter_konvolusi)\n",
    "            result[i+1, j+1] = convolution_result\n",
    "    return result[1:-1, 1:-1]\n",
    "\n",
    "hasil_konvolusi = apply_convolution(citra_padded, filter_konvolusi)\n",
    "print(hasil_konvolusi)\n"
   ]
  },
  {
   "cell_type": "code",
   "execution_count": 88,
   "metadata": {},
   "outputs": [],
   "source": [
    "citra_asli = np.array([\n",
    "    [3, 0, 29, 12, 12, 21, 12, 11],\n",
    "    [29, 1, 29, 29, 12, 29, 3, 0],\n",
    "    [29, 30, 3, 0, 4, 12, 20, 21],\n",
    "    [3, 30, 30, 12, 1, 21, 0, 13],\n",
    "    [30, 0, 30, 29, 12, 29, 1, 21],\n",
    "    [3, 30, 3, 0, 21, 12, 3, 0],\n",
    "    [29, 1, 29, 21, 1, 29, 31, 1],\n",
    "    [3, 0, 30, 21, 0, 30, 30, 1]\n",
    "])\n",
    "\n",
    "box_filter = np.array([\n",
    "    [1/9,1/9,1/9],\n",
    "    [1/9,1/9,1/9],\n",
    "    [1/9,1/9,1/9]\n",
    "])\n",
    "\n",
    "weighted_filter = np.array([\n",
    "    [1/16,2/16,1/16],\n",
    "    [2/16,4/16,2/16],\n",
    "    [1/16,2/16,1/16]\n",
    "])\n",
    "\n",
    "filter_konvolusi = np.array([\n",
    "    [1, 1, 1],\n",
    "    [1, 3, 1],\n",
    "    [1, 1, 1]\n",
    "])"
   ]
  },
  {
   "cell_type": "markdown",
   "metadata": {},
   "source": [
    "### Menggunakan filter Mask Konvlusi"
   ]
  },
  {
   "cell_type": "code",
   "execution_count": 138,
   "metadata": {},
   "outputs": [
    {
     "name": "stdout",
     "output_type": "stream",
     "text": [
      "[[ 39  91 158 147 139 131 100  48]\n",
      " [150 155 191 188 155 183 135  67]\n",
      " [180 244 170 120 128 126 159  99]\n",
      " [128 245 224 145 122 142 138 102]\n",
      " [156 159 224 196 161 158 102  80]\n",
      " [ 99 215 149 146 196 163 133  57]\n",
      " [124 130 193 168 137 215 199  68]\n",
      " [ 39  92 162 144 102 181 182  65]]\n",
      "\n",
      "39\t91\t158\t147\t139\t131\t100\t48\t\n",
      "150\t155\t191\t188\t155\t183\t135\t67\t\n",
      "180\t244\t170\t120\t128\t126\t159\t99\t\n",
      "128\t245\t224\t145\t122\t142\t138\t102\t\n",
      "156\t159\t224\t196\t161\t158\t102\t80\t\n",
      "99\t215\t149\t146\t196\t163\t133\t57\t\n",
      "124\t130\t193\t168\t137\t215\t199\t68\t\n",
      "39\t92\t162\t144\t102\t181\t182\t65\t\n",
      "\n"
     ]
    }
   ],
   "source": [
    "citra_padded = np.pad(citra_asli, ((1, 1), (1, 1)), mode='constant')\n",
    "hasil_konvolusi = apply_convolution(citra_padded, filter_konvolusi)\n",
    "print(hasil_konvolusi)\n",
    "\n",
    "print()\n",
    "for i in range(hasil_konvolusi.shape[0]):\n",
    "    for j in range(hasil_konvolusi.shape[1]):\n",
    "        print(f'{hasil_konvolusi[i, j]}\\t', end='')\n",
    "    print()\n",
    "print()"
   ]
  },
  {
   "cell_type": "markdown",
   "metadata": {},
   "source": [
    "### Menggunakan Filter Box Filter"
   ]
  },
  {
   "cell_type": "code",
   "execution_count": 139,
   "metadata": {},
   "outputs": [
    {
     "name": "stdout",
     "output_type": "stream",
     "text": [
      "[[ 3 10 11 13 12  9  8  2]\n",
      " [10 16 14 14 14 13 14  7]\n",
      " [13 20 18 13 13 11 13  6]\n",
      " [13 20 18 13 13 11 15  8]\n",
      " [10 17 18 15 15 11 11  4]\n",
      " [10 17 15 16 17 15 14  6]\n",
      " [ 7 14 15 14 14 17 15  7]\n",
      " [ 3 10 11 11 11 13 13  6]]\n",
      "\n",
      "3\t10\t11\t13\t12\t9\t8\t2\t\n",
      "10\t16\t14\t14\t14\t13\t14\t7\t\n",
      "13\t20\t18\t13\t13\t11\t13\t6\t\n",
      "13\t20\t18\t13\t13\t11\t15\t8\t\n",
      "10\t17\t18\t15\t15\t11\t11\t4\t\n",
      "10\t17\t15\t16\t17\t15\t14\t6\t\n",
      "7\t14\t15\t14\t14\t17\t15\t7\t\n",
      "3\t10\t11\t11\t11\t13\t13\t6\t\n",
      "\n"
     ]
    }
   ],
   "source": [
    "citra_padded = np.pad(citra_asli, ((1, 1), (1, 1)), mode='constant')\n",
    "hasil_konvolusi = apply_convolution(citra_padded, box_filter)\n",
    "print(hasil_konvolusi)\n",
    "\n",
    "print()\n",
    "for i in range(hasil_konvolusi.shape[0]):\n",
    "    for j in range(hasil_konvolusi.shape[1]):\n",
    "        print(f'{hasil_konvolusi[i, j]}\\t', end='')\n",
    "    print()\n",
    "print()"
   ]
  },
  {
   "cell_type": "markdown",
   "metadata": {},
   "source": [
    "### Menggunakan weight average"
   ]
  },
  {
   "cell_type": "code",
   "execution_count": 141,
   "metadata": {},
   "outputs": [
    {
     "name": "stdout",
     "output_type": "stream",
     "text": [
      "[[ 4  7 14 14 12 12  9  4]\n",
      " [13 15 17 16 15 16 12  6]\n",
      " [16 21 16 10  9 13 13  9]\n",
      " [13 21 20 13 10 12 12  9]\n",
      " [12 17 19 17 15 14  9  7]\n",
      " [11 15 15 13 15 16 11  5]\n",
      " [10 13 17 15 13 19 18  6]\n",
      " [ 4  7 15 13  9 16 17  6]]\n",
      "\n",
      "4\t7\t14\t14\t12\t12\t9\t4\t\n",
      "13\t15\t17\t16\t15\t16\t12\t6\t\n",
      "16\t21\t16\t10\t9\t13\t13\t9\t\n",
      "13\t21\t20\t13\t10\t12\t12\t9\t\n",
      "12\t17\t19\t17\t15\t14\t9\t7\t\n",
      "11\t15\t15\t13\t15\t16\t11\t5\t\n",
      "10\t13\t17\t15\t13\t19\t18\t6\t\n",
      "4\t7\t15\t13\t9\t16\t17\t6\t\n",
      "\n"
     ]
    }
   ],
   "source": [
    "citra_padded = np.pad(citra_asli, ((1, 1), (1, 1)), mode='constant')\n",
    "hasil_konvolusi = apply_convolution(citra_padded, weighted_filter)\n",
    "print(hasil_konvolusi)\n",
    "\n",
    "print()\n",
    "for i in range(hasil_konvolusi.shape[0]):\n",
    "    for j in range(hasil_konvolusi.shape[1]):\n",
    "        print(f'{hasil_konvolusi[i, j]}\\t', end='')\n",
    "    print()\n",
    "print()"
   ]
  },
  {
   "cell_type": "markdown",
   "metadata": {},
   "source": [
    "### Menggunakan median filter"
   ]
  },
  {
   "cell_type": "code",
   "execution_count": 142,
   "metadata": {},
   "outputs": [
    {
     "name": "stdout",
     "output_type": "stream",
     "text": [
      "[[ 3  3 12 12 12 12 12 11]\n",
      " [29 29 12 12 12 12 12 11]\n",
      " [29 29 29 12 12 12 13 13]\n",
      " [29 30 29 12 12 12 20 20]\n",
      " [ 3 30 29 12 12 12 12  3]\n",
      " [29 29 21 21 21 12 12  1]\n",
      " [ 3  3 21 21 21 21 12  1]\n",
      " [ 3  3 21 21 21 30 30  1]]\n",
      "\n",
      "3\t3\t12\t12\t12\t12\t12\t11\t\n",
      "29\t29\t12\t12\t12\t12\t12\t11\t\n",
      "29\t29\t29\t12\t12\t12\t13\t13\t\n",
      "29\t30\t29\t12\t12\t12\t20\t20\t\n",
      "3\t30\t29\t12\t12\t12\t12\t3\t\n",
      "29\t29\t21\t21\t21\t12\t12\t1\t\n",
      "3\t3\t21\t21\t21\t21\t12\t1\t\n",
      "3\t3\t21\t21\t21\t30\t30\t1\t\n",
      "\n"
     ]
    }
   ],
   "source": [
    "def medianFilter(image, size):\n",
    "    height, width = image.shape\n",
    "    pad_size = size // 2\n",
    "    padded_image = np.pad(image, pad_size, mode='edge')\n",
    "\n",
    "    result = np.zeros_like(image)\n",
    "\n",
    "    for i in range(height):\n",
    "        for j in range(width):\n",
    "            neighborhood = padded_image[i:i+size, j:j+size]\n",
    "            result[i, j] = np.median(neighborhood)\n",
    "\n",
    "    return result\n",
    "\n",
    "hasil_median = medianFilter(citra_asli, 3)\n",
    "print(hasil_median)\n",
    "\n",
    "print()\n",
    "for i in range(hasil_median.shape[0]):\n",
    "    for j in range(hasil_median.shape[1]):\n",
    "        print(f'{hasil_median[i, j]}\\t', end='')\n",
    "    print()\n",
    "print()"
   ]
  },
  {
   "cell_type": "code",
   "execution_count": 93,
   "metadata": {},
   "outputs": [
    {
     "name": "stdout",
     "output_type": "stream",
     "text": [
      "[[ 3  3 12 12 12 12 12 11]\n",
      " [29 29 12 12 12 12 12 11]\n",
      " [29 29 29 12 12 12 13 13]\n",
      " [29 30 29 12 12 12 20 20]\n",
      " [ 3 30 29 12 12 12 12  3]\n",
      " [29 29 21 21 21 12 12  1]\n",
      " [ 3  3 21 21 21 21 12  1]\n",
      " [ 3  3 21 21 21 30 30  1]]\n"
     ]
    }
   ],
   "source": [
    "# Menggunakan Scipy\n",
    "from scipy.ndimage import median_filter\n",
    "hasil_median_filter = median_filter(citra_asli, size=3)\n",
    "print(hasil_median_filter)"
   ]
  },
  {
   "cell_type": "markdown",
   "metadata": {},
   "source": [
    "### Menggunakan max filter"
   ]
  },
  {
   "cell_type": "code",
   "execution_count": 143,
   "metadata": {},
   "outputs": [
    {
     "name": "stdout",
     "output_type": "stream",
     "text": [
      "[[29 29 29 29 29 29 29 12]\n",
      " [30 30 30 29 29 29 29 21]\n",
      " [30 30 30 30 29 29 29 21]\n",
      " [30 30 30 30 29 29 29 21]\n",
      " [30 30 30 30 29 29 29 21]\n",
      " [30 30 30 30 29 31 31 31]\n",
      " [30 30 30 30 30 31 31 31]\n",
      " [29 30 30 30 30 31 31 31]]\n",
      "\n",
      "29\t29\t29\t29\t29\t29\t29\t12\t\n",
      "30\t30\t30\t29\t29\t29\t29\t21\t\n",
      "30\t30\t30\t30\t29\t29\t29\t21\t\n",
      "30\t30\t30\t30\t29\t29\t29\t21\t\n",
      "30\t30\t30\t30\t29\t29\t29\t21\t\n",
      "30\t30\t30\t30\t29\t31\t31\t31\t\n",
      "30\t30\t30\t30\t30\t31\t31\t31\t\n",
      "29\t30\t30\t30\t30\t31\t31\t31\t\n",
      "\n"
     ]
    }
   ],
   "source": [
    "def maxFilter(image, size):\n",
    "    height, width = image.shape\n",
    "    pad_size = size // 2\n",
    "    padded_image = np.pad(image, pad_size, mode='constant')\n",
    "\n",
    "    result = np.zeros_like(image)\n",
    "\n",
    "    for i in range(height):\n",
    "        for j in range(width):\n",
    "            neighborhood = padded_image[i:i+size, j:j+size]\n",
    "            result[i, j] = np.max(neighborhood)\n",
    "\n",
    "    return result\n",
    "\n",
    "hasil_max = maxFilter(citra_asli, 3)\n",
    "print(hasil_max)\n",
    "\n",
    "print()\n",
    "for i in range(hasil_max.shape[0]):\n",
    "    for j in range(hasil_max.shape[1]):\n",
    "        print(f'{hasil_max[i, j]}\\t', end='')\n",
    "    print()\n",
    "print()"
   ]
  },
  {
   "cell_type": "code",
   "execution_count": 95,
   "metadata": {},
   "outputs": [
    {
     "name": "stdout",
     "output_type": "stream",
     "text": [
      "[[29 29 29 29 29 29 29 12]\n",
      " [30 30 30 29 29 29 29 21]\n",
      " [30 30 30 30 29 29 29 21]\n",
      " [30 30 30 30 29 29 29 21]\n",
      " [30 30 30 30 29 29 29 21]\n",
      " [30 30 30 30 29 31 31 31]\n",
      " [30 30 30 30 30 31 31 31]\n",
      " [29 30 30 30 30 31 31 31]]\n"
     ]
    }
   ],
   "source": [
    "# Menggunakan scipy\n",
    "from scipy.ndimage import maximum_filter\n",
    "hasil_max_filter = maximum_filter(citra_asli, size=3)\n",
    "print(hasil_max_filter)"
   ]
  },
  {
   "cell_type": "markdown",
   "metadata": {},
   "source": [
    "### Menggunakan min filter"
   ]
  },
  {
   "cell_type": "code",
   "execution_count": 144,
   "metadata": {},
   "outputs": [
    {
     "name": "stdout",
     "output_type": "stream",
     "text": [
      "[[0 0 0 0 0 0 0 0]\n",
      " [0 0 0 0 0 3 0 0]\n",
      " [0 1 0 0 0 0 0 0]\n",
      " [0 0 0 0 0 0 0 0]\n",
      " [0 0 0 0 0 0 0 0]\n",
      " [0 0 0 0 0 1 0 0]\n",
      " [0 0 0 0 0 0 0 0]\n",
      " [0 0 0 0 0 0 0 0]]\n",
      "\n",
      "0\t0\t0\t0\t0\t0\t0\t0\t\n",
      "0\t0\t0\t0\t0\t3\t0\t0\t\n",
      "0\t1\t0\t0\t0\t0\t0\t0\t\n",
      "0\t0\t0\t0\t0\t0\t0\t0\t\n",
      "0\t0\t0\t0\t0\t0\t0\t0\t\n",
      "0\t0\t0\t0\t0\t1\t0\t0\t\n",
      "0\t0\t0\t0\t0\t0\t0\t0\t\n",
      "0\t0\t0\t0\t0\t0\t0\t0\t\n",
      "\n"
     ]
    }
   ],
   "source": [
    "def minFilter(image, size):\n",
    "    output = np.copy(image)\n",
    "    height, width = image.shape\n",
    "    pad = size // 2\n",
    "    padded_image = np.pad(image, ((pad, pad), (pad, pad)), mode='constant')\n",
    "    for i in range(pad, height+pad):\n",
    "        for j in range(pad, width+pad):\n",
    "            output[i-pad, j-pad] = np.min(padded_image[i-pad:i+pad+1, j-pad:j+pad+1])\n",
    "    return output\n",
    "\n",
    "hasil_min = minFilter(citra_asli, size=3)\n",
    "print(hasil_min)\n",
    "\n",
    "print()\n",
    "for i in range(hasil_min.shape[0]):\n",
    "    for j in range(hasil_min.shape[1]):\n",
    "        print(f'{hasil_min[i, j]}\\t', end='')\n",
    "    print()\n",
    "print()"
   ]
  },
  {
   "cell_type": "code",
   "execution_count": null,
   "metadata": {},
   "outputs": [],
   "source": []
  }
 ],
 "metadata": {
  "kernelspec": {
   "display_name": "Python 3",
   "language": "python",
   "name": "python3"
  },
  "language_info": {
   "codemirror_mode": {
    "name": "ipython",
    "version": 3
   },
   "file_extension": ".py",
   "mimetype": "text/x-python",
   "name": "python",
   "nbconvert_exporter": "python",
   "pygments_lexer": "ipython3",
   "version": "3.9.18"
  }
 },
 "nbformat": 4,
 "nbformat_minor": 2
}
